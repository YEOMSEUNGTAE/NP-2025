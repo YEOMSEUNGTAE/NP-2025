{
 "cells": [
  {
   "cell_type": "markdown",
   "id": "5e05b241",
   "metadata": {},
   "source": [
    "## 7장 노트정리 ##\n",
    "* 작성일: 2025.10.01\n",
    "* 작성자: 21학번 염승태"
   ]
  },
  {
   "cell_type": "markdown",
   "id": "40c3bd15",
   "metadata": {},
   "source": [
    "##### 모듈이란?\n",
    "* 함수,변수,클래스들을 모아 놓은 파일 묶음(라이브러리)\n",
    "사용방법: import module_name\n",
    "\n",
    "##### 사용자 정의 모듈의 사용\n",
    "1. myModule.py 의 파일 생성\n",
    "2. import myModule 을 정의하여 불러옴\n",
    "\n",
    "* if__name__ == '__main__' 의 기능\n",
    "* 모듈을 독립된 프로그램으로 사용할때만 실행됨\n",
    "* 모듈의 기능을 테스트하기 위해 사용됨\n",
    "\n",
    "#### 유용한 모듈 정리\n",
    "* sys 모듈 : 파이썬 인터프리터에 관한 정보를 알 수 있음\n",
    "* sys.argv : 명령 인수와 함께 프로그램을 실행할때 명령인수를 전달받음\n",
    "* random 모듈 : 난수를 만들때 사용\n",
    "* math 모듈 : 수학적 계산을 위한 모듈\n",
    "* time 모듈 : 시간을 문자열로 표시하는 모듈\n",
    "* calendar 모듈 : 달력을 출력하는 모듈\n",
    "* enum 모듈 : 열거형 상수를 정의하기 위한 모듈"
   ]
  },
  {
   "cell_type": "markdown",
   "id": "0daac739",
   "metadata": {},
   "source": [
    "#### __init__.py\n",
    "* 파이썬 패키지로 인식\n",
    "* 초기화 코드 실행 \n",
    "\n",
    "#### 모듈과 패키지의 차이\n",
    "* 모듈 : python에서 하나의 .py 파일이 하나의 모듈\n",
    "- 모듈은 함수,클래스 ,변수 등을 포함할 수 있으며, 코드 재사용성을 위해 사용\n",
    "* 패키지 : python에서 디렉토리가 패키지\n",
    "- 패키지는 여러 모듈을 포함할 수 있음\n",
    "- 대규모 프로젝트에서 코드 구조를 체계적으로 관리하는데 유용\n",
    "- 디렉토리 단위로 구성\n",
    "- 모듈을 그룹화하여 계층 구조를 제공\n"
   ]
  },
  {
   "cell_type": "code",
   "execution_count": null,
   "id": "26963a2b",
   "metadata": {},
   "outputs": [],
   "source": [
    "# __init__.py\n",
    "\n",
    "## 패키지 이름: mypackage\n",
    "\n",
    "## __init__.py의 위치\n",
    "'''\n",
    "mypackage/\n",
    "|    __init__.py # 패키지 초기화 파일\n",
    "|    module1.py\n",
    "|    module2.py\n",
    "\n",
    "'''\n",
    "from .module1 import Class1\n",
    "form .module2 import funtion2\n",
    "\n",
    "# 외부에서 다음과 같이 사용\n",
    "\n",
    "from mypackage import Class1, function2\n",
    "\n",
    "# 동적모듈 로딩\n",
    "import importlib\n",
    "def load_module(name):\n",
    "    return \\\n",
    "    importlib.import_module(f\"mypackage.{name}\",\n",
    "                              package=__name__)\n"
   ]
  },
  {
   "cell_type": "markdown",
   "id": "f6fe0710",
   "metadata": {},
   "source": [
    "#### 가상환경이란?\n",
    "* 프로젝트별로 독립된 파이썬 환경을 만드는 도구\n",
    "* 각 프로젝트가 서로 다른 패키지 버전을 사용할 수 있게함\n",
    "* 시스템 파이썬 환경을 오염시키지 않음\n",
    "* venv, conda, yirtualenv\n",
    "\n",
    "* python -m venv .myvenv \n",
    "* .\\.venv\\scripts\\activate"
   ]
  },
  {
   "cell_type": "markdown",
   "id": "d764df31",
   "metadata": {},
   "source": []
  }
 ],
 "metadata": {
  "language_info": {
   "name": "python"
  }
 },
 "nbformat": 4,
 "nbformat_minor": 5
}
