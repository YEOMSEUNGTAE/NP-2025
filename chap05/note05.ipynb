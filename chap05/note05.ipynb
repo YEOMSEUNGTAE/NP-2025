{
 "cells": [
  {
   "cell_type": "markdown",
   "id": "3eb21883",
   "metadata": {},
   "source": [
    "##### 함수란? #####\n",
    "* 이름을 붙여 반복적으로 호출하여 사용할 수 있는 부분\n",
    "##### 함수를 사용하는 이유 \n",
    "* 프로그램 안에서 중복된 코드를 제거한다\n",
    "* 복잡한 프로그래밍 작업을 더 간단한 작업들로 분해 할 수 있다.\n",
    "* 함수는 한번 만들어지면 다른 프로그램에서도 재사용 될 수 있다.\n",
    "* 함수를 사용하면 가독성이 증대되고, 유지 관리도 쉬워진다.\n",
    "##### 파이썬 함수는 일급함수 #####\n",
    "변수에 할당: a =func\n",
    "다른 함수의 인자로 전달 가능: func1(func)\n",
    "return 문으로 반환 가능: return func\n",
    "\n",
    "##### 함수의 종류\n",
    "* 내장함수\n",
    "* 사용자 정의 함수\n",
    "\n",
    "\n"
   ]
  },
  {
   "cell_type": "code",
   "execution_count": 1,
   "id": "feb6ee7e",
   "metadata": {},
   "outputs": [],
   "source": [
    "def 함수이름(매개변수): #함수의 이름과 매개변수 정의\n",
    "    #문장1\n",
    "    #문장2\n",
    "    return 값 #함수 종료시 반환값. 들여쓰기가 끝나는 부분까지 함수"
   ]
  },
  {
   "cell_type": "code",
   "execution_count": null,
   "id": "68112f03",
   "metadata": {},
   "outputs": [],
   "source": [
    "#반환값이 없는 함수\n",
    "def prtStr(str):\n",
    "    print(\"%s\"%str)\n",
    "    return \n",
    "\n",
    "str = \"wecome to python\"\n",
    "prtStr(str)"
   ]
  },
  {
   "cell_type": "code",
   "execution_count": null,
   "id": "5fae4dd4",
   "metadata": {},
   "outputs": [],
   "source": [
    "# 값을 반환하는 함수\n",
    "def squareArea(s) :\n",
    "    area = s * s\n",
    "    return area \n",
    "\n",
    "a = squareArea(5) \n",
    "b = squareArea(7)\n",
    "print(\"한변의 길이가 %d인정사각형의넓이는%d\" %(5, a))\n",
    "print(\"한변의 길이가 %d인정사각형의넓이는%d\" %(7, b))"
   ]
  },
  {
   "cell_type": "code",
   "execution_count": null,
   "id": "9e5f39b7",
   "metadata": {},
   "outputs": [],
   "source": [
    "# 1~n까지 합을 계산하는 함수\n",
    "def sum(n):     \n",
    "    hab = 0\n",
    "    for i in range(1, n+1): \n",
    "        hab = hab + i \n",
    "    return hab \n",
    "\n",
    "a = sum(50) \n",
    "b = sum(1000) \n",
    "print(a)\n",
    "print(b)"
   ]
  },
  {
   "cell_type": "markdown",
   "id": "696275ba",
   "metadata": {},
   "source": [
    "#### 지역변수와 전역변수\n",
    "* 지역변수: 함수 내에서만 값이 유효\n",
    "* 지역변수 선언: 함수 내에서 선언\n",
    "* 전역변수: 프로그램 전체에서 값이 유효 #프로그램 내에서 유효\n",
    "* 전역변수 선언: 함수 밖에서 선언 \n",
    "* 다음 프로그램에서는 v는 지역 변수이다."
   ]
  },
  {
   "cell_type": "code",
   "execution_count": null,
   "id": "8fa1232c",
   "metadata": {},
   "outputs": [],
   "source": [
    "# 함수 선언부\n",
    "def func1():\n",
    "    v = 10\n",
    "    print(\"func()에서 v=\" % v )\n",
    "\n",
    "def func2():\n",
    "    v = 20\n",
    "    print(\"func2()dml v = %d\" % v)\n",
    "\n",
    "func1()\n",
    "func2()    "
   ]
  },
  {
   "cell_type": "code",
   "execution_count": null,
   "id": "7025831f",
   "metadata": {},
   "outputs": [],
   "source": [
    "# 매개변수의 기본값 지정(기본 매개변수)\n",
    "def prtMesg(message, count=1):\n",
    "    print (message * count)\n",
    "prtMesg('default') \n",
    "prtMesg('Hi! ', 5) "
   ]
  },
  {
   "cell_type": "code",
   "execution_count": null,
   "id": "d70ba3c9",
   "metadata": {},
   "outputs": [],
   "source": [
    "# 가변 매개변수-매개변수의 개수가 가변일때\n",
    "# 매개변수가 *arg로 표시되면 튜플로 처리\n",
    "\n",
    "def total(*numbers):\n",
    "    sum = 0\n",
    "    for n in numbers: \n",
    "        sum += n\n",
    "    return sum\n",
    "print (total(1,2,3)) \n",
    "print (total(1,2,3,4,5))"
   ]
  },
  {
   "cell_type": "code",
   "execution_count": null,
   "id": "47774547",
   "metadata": {},
   "outputs": [],
   "source": [
    "def dicPresident(**keywords):\n",
    "    for i in keywords.keys(): #딕셔너리key를하나씩 처리\n",
    "        print(\"%s : %d-th president\" %(i, keywords[i]))\n",
    "dicPresident(Kennedy=35, Obama=44, Trump=45)"
   ]
  },
  {
   "cell_type": "markdown",
   "id": "7d5ab91f",
   "metadata": {},
   "source": [
    "#### 람다(무명) 함수 ####\n",
    "* 이름이 없는 한 줄짜리 함수\n",
    "* lambda parameters: expr # 함수정의\n",
    "* parameters는 매개변수, expr는 결과가 return 되는 수식\n",
    "* lambda x,y: x+y # x와 y값을 전달받아 x+y를 리턴\n",
    "* 두개 이상의 값을 리턴하려면 튜플, 리스트 사용"
   ]
  },
  {
   "cell_type": "code",
   "execution_count": null,
   "id": "e0362b56",
   "metadata": {},
   "outputs": [],
   "source": [
    "sum = lambda x, y: x + y\n",
    "print(sum(10, 20))\n",
    "print(sum(20, 40))"
   ]
  },
  {
   "cell_type": "markdown",
   "id": "a1c21e12",
   "metadata": {},
   "source": [
    "#### 재규함수 \n",
    "* 함수내에서 자기 자신을 호출하는 함수\n",
    "* 같은 동작을 반복할때 재귀 함수 사용\n",
    "* 함수가 종료되는 조건을 반드시 포함해야 한다"
   ]
  },
  {
   "cell_type": "code",
   "execution_count": null,
   "id": "7c983a57",
   "metadata": {},
   "outputs": [],
   "source": [
    "# 팩토리얼 구하는 재규함수\n",
    "def fact(n):\n",
    "    if n ==1 :\n",
    "        return 1\n",
    "    else:\n",
    "        return n*fact(n-1)\n",
    "    \n",
    "print(fact(5))"
   ]
  },
  {
   "cell_type": "markdown",
   "id": "4879b905",
   "metadata": {},
   "source": [
    "##### eval\n",
    "* 문자열로 표시된 expr의 계산 결과를 반환. 계산할 수 없으면 오류\n",
    "\n",
    "##### int <-> bin,oct,hex\n",
    "* 2진수 10진수 16진수로 변환\n",
    "\n",
    "##### filter\n",
    "* seq의 각 요소에 대해 func를 호출하여 결과 True인 요소만 모아서 iterable로 반환\n",
    "\n",
    "##### map \n",
    "seq의 각 요소에 대해 func를 호출하여 실행하고 결과를 iterable로 반환\n",
    "\n",
    "##### ord(반대: chr)\n",
    "* ord - 순서가 있는 정수값\n",
    "* ch에 대한 ASCII 코드 반환(유니코드 문자)\n",
    "\n",
    "##### repr\n",
    "* 유니코드 문자도 가능\n",
    "* obj를 문자열로 변환\n",
    "\n",
    "##### round\n",
    "* 실수 x를 소수점 아래 n자리로 반올림하여 반환\n",
    "\n",
    "##### zip\n",
    "* seq 요소와 *seqs 요소의 튜플 쌍으로 만들어 리스트 iterable 반환"
   ]
  },
  {
   "cell_type": "markdown",
   "id": "225aa0c7",
   "metadata": {},
   "source": [
    "##### 동적 변수 타입, 함수의 반환 타입이 기본\n",
    "* 기본적으로 타입을 명시하지 않아도 알아서 타입을 추론\n",
    "\n",
    "##### 명시적 타입 변수, 함수의 반환 타입이 기본\n",
    "* 정환한 계산이 필요할 경우 타입힌트를 통해 가독성과 유지보수성 향상\n",
    "\n",
    "##### 타입힌트의 장점\n",
    "* 코드의 가독성 향상\n",
    "* 버그 예방\n",
    "* 도구 지원\n",
    "* 유지보수성 강화"
   ]
  },
  {
   "cell_type": "code",
   "execution_count": null,
   "id": "2fff1311",
   "metadata": {},
   "outputs": [],
   "source": [
    "# 작성요함 x \n",
    "def add(a,b):\n",
    "    return a+b\n",
    "\n",
    "def greet(name):\n",
    "    return f\"Hello, {name}!\"\n",
    "\n",
    "def get_list():\n",
    "    return [1, 2, 3, 4, 5]"
   ]
  },
  {
   "cell_type": "code",
   "execution_count": null,
   "id": "589d621a",
   "metadata": {},
   "outputs": [],
   "source": [
    "# 작성요함 o\n",
    "def add(a:int, b:int) -> int:\n",
    "    return a + b\n",
    "\n",
    "def greet(name: str) -> str:\n",
    "    return f\"Hello, {name}!\"\n",
    "\n",
    "def get_list() -> list[int]:\n",
    "    return [1, 2, 3, 4, 5]\n"
   ]
  }
 ],
 "metadata": {
  "kernelspec": {
   "display_name": "Python 3",
   "language": "python",
   "name": "python3"
  },
  "language_info": {
   "codemirror_mode": {
    "name": "ipython",
    "version": 3
   },
   "file_extension": ".py",
   "mimetype": "text/x-python",
   "name": "python",
   "nbconvert_exporter": "python",
   "pygments_lexer": "ipython3",
   "version": "3.13.5"
  }
 },
 "nbformat": 4,
 "nbformat_minor": 5
}
