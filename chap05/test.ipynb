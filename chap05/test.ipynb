{
 "cells": [
  {
   "cell_type": "code",
   "execution_count": null,
   "id": "a506559c",
   "metadata": {},
   "outputs": [
    {
     "name": "stdout",
     "output_type": "stream",
     "text": [
      "3 x 1 = 3\n",
      "3 x 2 = 6\n",
      "3 x 3 = 9\n",
      "3 x 4 = 12\n",
      "3 x 5 = 15\n",
      "3 x 6 = 18\n",
      "3 x 7 = 21\n",
      "3 x 8 = 24\n",
      "3 x 9 = 27\n"
     ]
    }
   ],
   "source": [
    "# 구구단 출력\n",
    "def gugudan(n):\n",
    "    for j in range(1, 10):\n",
    "        print(f\"{n} x {j} = {n*j}\")\n",
    "# 테스트 함수 출력\n",
    "# for i in range(2,10):\n",
    "#     for j in range(1,10):\n",
    "#         print(f\"{i} x {j} = {i*j}\")\n",
    "a = int(input(\"몇 단을 출력할까요? \"))\n",
    "gugudan(a)"
   ]
  },
  {
   "cell_type": "code",
   "execution_count": 4,
   "id": "07c8df3d",
   "metadata": {},
   "outputs": [
    {
     "name": "stdout",
     "output_type": "stream",
     "text": [
      "국어 학점은 A입니다.\n",
      "수학 학점은 F입니다.\n",
      "영어 학점은 D입니다.\n"
     ]
    }
   ],
   "source": [
    "# 학점에 따른\n",
    "\n",
    "def credit_grade (score):\n",
    "    if score >= 90:\n",
    "        return 'A'\n",
    "    elif score >= 80:\n",
    "        return 'B'\n",
    "    elif score >= 70:\n",
    "        return 'C'\n",
    "    elif score >= 60:\n",
    "        return 'D'\n",
    "    else:\n",
    "        return 'F'\n",
    "\n",
    "score = int(input(\"국어 점수를 입력하세요: \"))\n",
    "score2 = int(input(\"수학 점수를 입력하세요: \"))\n",
    "score3 = int(input(\"영어 점수를 입력하세요: \"))\n",
    "\n",
    "print(f\"국어 학점은 {credit_grade(score)}입니다.\")\n",
    "print(f\"수학 학점은 {credit_grade(score2)}입니다.\")\n",
    "print(f\"영어 학점은 {credit_grade(score3)}입니다.\")\n"
   ]
  },
  {
   "cell_type": "code",
   "execution_count": null,
   "id": "548c0b5f",
   "metadata": {},
   "outputs": [
    {
     "name": "stdout",
     "output_type": "stream",
     "text": [
      "정렬된 배열: [3, 9, 10, 27, 38, 43, 82]\n"
     ]
    }
   ],
   "source": [
    "# 분할 병합 알고리즘\n",
    "\n",
    "def merge_sort(arr):\n",
    "    if len(arr) <= 1:\n",
    "        return arr\n",
    "    \n",
    "    mid = len(arr) // 2\n",
    "    left = merge_sort(arr[:mid])\n",
    "    right = merge_sort(arr[mid:])\n",
    "    \n",
    "    return merge(left, right)\n",
    "\n",
    "def merge(left, right):\n",
    "    merged = []\n",
    "    i, j = 0, 0\n",
    "    while i < len(left) and j < len(right):\n",
    "        if left[i] < right[j]:\n",
    "            merged.append(left[i])\n",
    "            i += 1\n",
    "        else:\n",
    "            merged.append(right[j])\n",
    "            j += 1\n",
    "    merged.extend(left[i:])\n",
    "    merged.extend(right[j:])\n",
    "    return merged\n",
    "\n",
    "arr = [38, 27, 43, 3, 9, 82, 10]\n",
    "sorted_arr = merge_sort(arr)\n",
    "print(\"정렬된 배열:\", sorted_arr)"
   ]
  }
 ],
 "metadata": {
  "kernelspec": {
   "display_name": "Python 3",
   "language": "python",
   "name": "python3"
  },
  "language_info": {
   "codemirror_mode": {
    "name": "ipython",
    "version": 3
   },
   "file_extension": ".py",
   "mimetype": "text/x-python",
   "name": "python",
   "nbconvert_exporter": "python",
   "pygments_lexer": "ipython3",
   "version": "3.13.5"
  }
 },
 "nbformat": 4,
 "nbformat_minor": 5
}
