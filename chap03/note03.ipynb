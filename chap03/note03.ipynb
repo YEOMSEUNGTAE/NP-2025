{
 "cells": [
  {
   "cell_type": "markdown",
   "id": "7f84d8cc",
   "metadata": {},
   "source": [
    "## 3장 노트정리 ## \n",
    "* 작성자: 202110846 염승태"
   ]
  },
  {
   "cell_type": "markdown",
   "id": "ba99e52f",
   "metadata": {},
   "source": [
    "#### 프로그램 제어문\n",
    "프로그램은 작성 순서대로 실행\n",
    "제어문: 프로그램의 실행 순서를 바꾸는 문장\n",
    "* 조건문 (if, if-else, if-elif-else)\n",
    "* 반복문 (while, for)\n",
    "* 기타 제어문 (break, continue)"
   ]
  },
  {
   "cell_type": "code",
   "execution_count": null,
   "id": "ee2c8325",
   "metadata": {},
   "outputs": [],
   "source": [
    "##### if 조건문 예제 #####\n",
    "sore = int(input('정수를 입력'))\n",
    "if sore >=90:\n",
    "    print(\"성적: A\")\n",
    "    print(\"장학금 수여\")"
   ]
  },
  {
   "cell_type": "code",
   "execution_count": null,
   "id": "7dcf3599",
   "metadata": {},
   "outputs": [],
   "source": [
    "#### if 조건문 예제 2 ####\n",
    "age1 = 22\n",
    "age2 = 18 \n",
    "age = int(input('나이 입력'))\n",
    "if age < age1 and age > age2 :\n",
    "    print('당신의 나이는 18~22세 사이입니다')"
   ]
  },
  {
   "cell_type": "code",
   "execution_count": 2,
   "id": "e1c57fbf",
   "metadata": {},
   "outputs": [
    {
     "name": "stdout",
     "output_type": "stream",
     "text": [
      "fail\n"
     ]
    }
   ],
   "source": [
    "#### if-else 조건문 ####\n",
    "sore = 80\n",
    "if sore >= 90:\n",
    "    print('pass')\n",
    "else :\n",
    "    print('fail')"
   ]
  },
  {
   "cell_type": "code",
   "execution_count": 1,
   "id": "8829bdd7",
   "metadata": {},
   "outputs": [
    {
     "name": "stdout",
     "output_type": "stream",
     "text": [
      "2002 \n",
      " 윤년아님\n"
     ]
    }
   ],
   "source": [
    "### 평년과 윤년 구분하는 프로그램\n",
    "# 년도가 4로 나뉘어지고 100으로 나뉘어지지 않거나 400으로 나뉘어지면 윤년이다\n",
    "\n",
    "year = int(input('년도 입력'))\n",
    "if (year % 4 ==0 and year % 100 !=0) or (year % 400 ==0):\n",
    "    print(year, \"\\n\", \"윤년\")\n",
    "else: print(year, \"\\n\", '윤년아님')\n"
   ]
  },
  {
   "cell_type": "markdown",
   "id": "c445dcd1",
   "metadata": {},
   "source": [
    "### 반복문 ### \n",
    "* 조건이 충족되면 동일한 일을 반복 수행\n",
    "* 구조: \n",
    "<br> [초기화]\n",
    "<br> while[조건]\n",
    "<br>    [블록]\n",
    "<br> [다음문장]\n",
    "<br> 조건이 만족되면 블록을 실행하고 다시 조건을 조사\n",
    "<br> 조건이 만족되지 않으면 다음 문장 실행"
   ]
  },
  {
   "cell_type": "code",
   "execution_count": 5,
   "id": "1e27bb0e",
   "metadata": {},
   "outputs": [
    {
     "name": "stdout",
     "output_type": "stream",
     "text": [
      "sum =  99\n"
     ]
    }
   ],
   "source": [
    "i = 1\n",
    "sum = 0\n",
    "while i < 100: \n",
    "    sum = sum + 1\n",
    "    i = i+1\n",
    "print(\"sum = \",sum)"
   ]
  },
  {
   "cell_type": "code",
   "execution_count": null,
   "id": "e1e2b764",
   "metadata": {},
   "outputs": [],
   "source": [
    "#### while 연습문제 ####\n",
    "# 10진수를 입력 받아 2진수로 변환하여 출력하는 프로그램\n",
    "\n",
    "n = int(input('번호 입력: '))\n",
    "result =''\n",
    "\n",
    "while n != 0:\n",
    "    m = n % 2\n",
    "    result = str(m) + result\n",
    "    n = n//2\n",
    "\n",
    "print(\"2진수 =\", result)"
   ]
  },
  {
   "cell_type": "markdown",
   "id": "7d105ae9",
   "metadata": {},
   "source": [
    "#### for 반복문 ####\n",
    "\n",
    "<br> for[변수] in [반복객체(리스트, 튜플, 문자열 등)]:\n",
    "<br> [블록]\n",
    "\n",
    "* [반복객체]의 각 요소의 값을 하났기 [변수]에 저장하고 블록을 실행\n",
    "* [반복객체]에 더 이상의 요소가 없을때까지 반복\n",
    "\n",
    "* for i in [1,2,3]: print(\"숫자\",i)\n",
    "* for i in 'hello': print(i)\n",
    "\n",
    "#### for - range ####\n",
    "<br> for[변수] in range(start, stop, step):\n",
    "<br>  [블록]\n",
    "\n",
    "* range() 함수는 반복 객체를 생성하는 함수\n"
   ]
  },
  {
   "cell_type": "code",
   "execution_count": null,
   "id": "b31641f2",
   "metadata": {},
   "outputs": [],
   "source": [
    "from random import randint\n",
    "secret_num = randint(1,100)\n",
    "num_guesses = 0 #시도 회수\n",
    "guess = 0 #예상숫자\n",
    "while guess != secret_num and num_guesses <= 4:\n",
    " guess = eval(input('Enter your guess (1-100): ')) #수 입력\n",
    "num_guesses = num_guesses + 1 #시도 횟수 증가\n",
    "if guess < secret_num: #정답이 클 때\n",
    "    print('더 큽니다.', 5-num_guesses, '회 남았습니다.\\n')\n",
    "elif guess > secret_num: #정답이 작을 때\n",
    "    print('더 작습니다.', 5-num_guesses, '회 남았습니다.\\n')\n",
    "else: #정답\n",
    "    print('맞았습니다!')\n",
    "if num_guesses==5 and guess != secret_num: #맞추지 못한 경우\n",
    "    print('당신이 졌습니다. 정답은 ', secret_num, '입니다')"
   ]
  },
  {
   "cell_type": "markdown",
   "id": "c0ebae07",
   "metadata": {},
   "source": [
    "#### 기타 제어문 ####\n",
    "\n",
    "* break문\n",
    "<br> 반복문을 빠져나올때 사용\n",
    "\n",
    "* continue문\n",
    "<br> 블록의 나머지 부분은 생략하고 다시 while 조건 조사"
   ]
  },
  {
   "cell_type": "code",
   "execution_count": null,
   "id": "e70dc41e",
   "metadata": {},
   "outputs": [],
   "source": [
    "n = 10\n",
    "while n> -10 :\n",
    "    if n ==0 :\n",
    "        n = n-1\n",
    "        continue\n",
    "inv = 1.0 / n\n",
    "print(\"n= %d, inv(n) = %0.2f\"%(n,inv))\n",
    "n=n-1"
   ]
  },
  {
   "cell_type": "code",
   "execution_count": null,
   "id": "4a9c1a10",
   "metadata": {},
   "outputs": [],
   "source": [
    "''' maych value\n",
    "    case pattern1:\n",
    "\n",
    "    case pattern2:\n",
    "    \n",
    "    case _:\n",
    "'''\n",
    "def handle_status(status):\n",
    "    match staus:\n",
    "        case 200:\n",
    "            return \"성공\"\n",
    "        case 404: \n",
    "            return \"페이지 없음\"\n",
    "        case 500:\n",
    "            return \"서버 오류\"\n",
    "        case _:\n",
    "            return \"기타 오류\"\n",
    "        "
   ]
  }
 ],
 "metadata": {
  "kernelspec": {
   "display_name": "Python 3",
   "language": "python",
   "name": "python3"
  },
  "language_info": {
   "codemirror_mode": {
    "name": "ipython",
    "version": 3
   },
   "file_extension": ".py",
   "mimetype": "text/x-python",
   "name": "python",
   "nbconvert_exporter": "python",
   "pygments_lexer": "ipython3",
   "version": "3.13.5"
  }
 },
 "nbformat": 4,
 "nbformat_minor": 5
}
