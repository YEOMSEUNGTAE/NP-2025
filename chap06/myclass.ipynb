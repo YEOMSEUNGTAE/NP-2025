{
 "cells": [
  {
   "cell_type": "code",
   "execution_count": null,
   "id": "79417ced",
   "metadata": {},
   "outputs": [],
   "source": [
    "class test:\n",
    "    def __init__(self,color,speed):\n",
    "        self.color = color\n",
    "        self.speed = speed   \n",
    "    def speedUp(self,v):\n",
    "        self.speed = self.speed +v\n",
    "        return self.speed\n",
    "    def speedDown(self,v):\n",
    "        self.speed = self.speed -v\n",
    "        return self.speed"
   ]
  },
  {
   "cell_type": "code",
   "execution_count": 1,
   "id": "592a1a8b",
   "metadata": {},
   "outputs": [
    {
     "ename": "TypeError",
     "evalue": "Animal() takes no arguments",
     "output_type": "error",
     "traceback": [
      "\u001b[31m---------------------------------------------------------------------------\u001b[39m",
      "\u001b[31mTypeError\u001b[39m                                 Traceback (most recent call last)",
      "\u001b[36mCell\u001b[39m\u001b[36m \u001b[39m\u001b[32mIn[1]\u001b[39m\u001b[32m, line 10\u001b[39m\n\u001b[32m      8\u001b[39m         \u001b[38;5;28;01mreturn\u001b[39;00m \u001b[33m\"\u001b[39m\u001b[33m멍멍\u001b[39m\u001b[33m\"\u001b[39m\n\u001b[32m      9\u001b[39m \u001b[38;5;66;03m# a = Animal() # 에러: 추상 클래스는 인스턴스화 불가\u001b[39;00m\n\u001b[32m---> \u001b[39m\u001b[32m10\u001b[39m a = \u001b[43mAnimal\u001b[49m\u001b[43m(\u001b[49m\u001b[43mDog\u001b[49m\u001b[43m(\u001b[49m\u001b[43m)\u001b[49m\u001b[43m)\u001b[49m\n\u001b[32m     11\u001b[39m \u001b[38;5;28mprint\u001b[39m(a.sound()) \u001b[38;5;66;03m# \"멍멍\"\u001b[39;00m\n",
      "\u001b[31mTypeError\u001b[39m: Animal() takes no arguments"
     ]
    }
   ],
   "source": [
    "from abc import ABC, abstractmethod\n",
    "class Animal(ABC):\n",
    "    @abstractmethod\n",
    "    def sound(self):\n",
    "        pass\n",
    "class Dog(Animal):\n",
    "    def sound(self):\n",
    "        return \"멍멍\"\n",
    "# a = Animal() # 에러: 추상 클래스는 인스턴스화 불가\n",
    "a = Animal(Dog())\n",
    "print(a.sound()) # \"멍멍\""
   ]
  }
 ],
 "metadata": {
  "kernelspec": {
   "display_name": "Python 3",
   "language": "python",
   "name": "python3"
  },
  "language_info": {
   "codemirror_mode": {
    "name": "ipython",
    "version": 3
   },
   "file_extension": ".py",
   "mimetype": "text/x-python",
   "name": "python",
   "nbconvert_exporter": "python",
   "pygments_lexer": "ipython3",
   "version": "3.13.5"
  }
 },
 "nbformat": 4,
 "nbformat_minor": 5
}
