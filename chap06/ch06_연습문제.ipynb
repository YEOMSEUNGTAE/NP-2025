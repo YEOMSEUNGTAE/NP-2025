{
 "cells": [
  {
   "cell_type": "markdown",
   "id": "0aa5ffa3",
   "metadata": {},
   "source": [
    "## 6-3 연습문제\n",
    "- Moneybox 클래스를 작성하라. 이 클래스는 저축한 총액을 저장하는 인스턴스 변수가 있다. \n",
    "deposit(money) 메서드는 인수로 주어진 금액만큼 저축하고 총액을 출력한다, \n",
    "extract(money) 메소드는 money를 인출하고 총액을 출력한다. get_total() 메소드는 총액을\n",
    "알려준다. \n",
    "\n",
    "- my_money = Moneybox() 객체를 생성하고 1000원을 저축하고, 200원을 인출한 다음, 총액\n",
    "을 출력하라"
   ]
  },
  {
   "cell_type": "markdown",
   "id": "bdff0126",
   "metadata": {},
   "source": [
    "## 6-4 연습문제 "
   ]
  },
  {
   "cell_type": "markdown",
   "id": "a7e9b3e6",
   "metadata": {},
   "source": [
    "## 6-5 연습문제\n",
    "- Articles 클래스를 작성하라. 이 클래스는 각각 제품의 이름, 재고 수량, 단가를 나타내는 name, stock, price 인스턴스 변수를 가지고 있다. offer_price() 메소드는 구매 수량을 인수로 전달받아 총 가격을 반환한다. 구매 수량이 1~10개 이하이면 정상 가격을 반환하고, 11~50개이면 5% 할인된 가격을 반환한다. 또 51개 이상이면 10% 할인해 준다. purchase() 메소드는 구매 수량을 인수로 전달받아 재고 수량을 구매 수량만큼 감소한다.\n",
    "\n",
    "- 이 클래스를 이용하여 단가 1000원인 ”mask“를 10,000장으로 설정하고, 40장 구매 가격과 구매 후 재고를 출력하라."
   ]
  },
  {
   "cell_type": "code",
   "execution_count": 1,
   "id": "a3b3ecc4",
   "metadata": {},
   "outputs": [
    {
     "name": "stdout",
     "output_type": "stream",
     "text": [
      "구매 가격: 38000.0원\n",
      "구매 후 재고: 9960장\n"
     ]
    }
   ],
   "source": [
    "#  Articles 클래스를 작성하라. 이 클래스는 각각 제품의 이름, 재고 수량, 단가를 나타내는 name, stock, price 인스턴스 변수를 가지고 있다. offer_price() 메소드는 구매 수량을 인수로 전달받아 총 가격을 반환한다. 구매 수량이 1~10개 이하이면 정상 가격을 반환하고, 11~50개이면 5% 할인된 가격을 반환한다. 또 51개 이상이면 10% 할인해 준다. purchase() 메소드는 구매 수량을 인수로 전달받아 재고 수량을 구매 수량만큼 감소한다.\n",
    "#  이 클래스를 이용하여 단가 1000원인 ”mask“를 10,000장으로 설정하고, 40장 구매 가격과 구매 후 재고를 출력하라\n",
    "class Articles:\n",
    "    def __init__(self, name, stock, price):\n",
    "        self.name = name\n",
    "        self.stock = stock\n",
    "        self.price = price\n",
    "\n",
    "    def offer_price(self, quantity):\n",
    "        if quantity <= 10:\n",
    "            total_price = self.price * quantity\n",
    "        elif 11 <= quantity <= 50:\n",
    "            total_price = self.price * quantity * 0.95\n",
    "        else:\n",
    "            total_price = self.price * quantity * 0.90\n",
    "        return total_price\n",
    "\n",
    "    def purchase(self, quantity):\n",
    "        if quantity <= self.stock:\n",
    "            self.stock -= quantity\n",
    "        else:\n",
    "            print(\"재고가 부족합니다.\")\n",
    "\n",
    "# 단가 1000원인 \"mask\"를 10,000장으로 설정\n",
    "mask = Articles(\"mask\", 10000, 1000)\n",
    "# 40장 구매 가격과 구매 후 재고 출력\n",
    "purchase_quantity = 40\n",
    "total_price = mask.offer_price(purchase_quantity)\n",
    "mask.purchase(purchase_quantity)\n",
    "print(f\"구매 가격: {total_price}원\")\n",
    "print(f\"구매 후 재고: {mask.stock}장\")\n",
    "\n"
   ]
  },
  {
   "attachments": {
    "image-2.png": {
     "image/png": "[encoded data removed]"
    }
   },
   "cell_type": "markdown",
   "id": "95df96d3",
   "metadata": {},
   "source": [
    "## 6-6 연습문제\n",
    "-  다음 프로그램을 실행했을 때 아래 내용이 출력되도록 클래스를 정의하라. 학번(id) 앞 4자리가\n",
    "2018보다 작으면 grade() 메소드에 의해 “3학년입니다“가 출력되고 아니면 ”3학년이 아닙\n",
    "니다“가 출력된다.\n",
    "\n",
    "- <br> ![image-2.png](attachment:image-2.png)"
   ]
  },
  {
   "cell_type": "code",
   "execution_count": null,
   "id": "92d42985",
   "metadata": {},
   "outputs": [],
   "source": [
    "#다음 프로그램을 실행했을 때 아래 내용이 출력되도록 클래스를 정의하라. 학번(id) 앞 4자리가2018보다 작으면 grade() 메소드에 의해 “3학년입니다“가 출력되고 아니면 ”3학년이 아닙니다“가 출력된다.\n",
    "class Student:\n",
    "    def __init__(self, id):\n",
    "        self.id = id\n",
    "\n",
    "    def grade(self):\n",
    "        if int(self.id[:4]) < 2018:\n",
    "            print(\"3학년입니다\")\n",
    "        else:\n",
    "            print(\"3학년이 아닙니다\")\n",
    "student1 = Student(\"20170001\")\n",
    "student1.grade()  # 출력: 3학년입니다\n",
    "student2 = Student(\"20180001\")\n",
    "student2.grade()  # 출력: 3학년이 아닙니다"
   ]
  },
  {
   "cell_type": "code",
   "execution_count": null,
   "id": "16a0ef08",
   "metadata": {},
   "outputs": [],
   "source": [
    "## 6-7 연습문제 \n",
    "# 다음Person 클래스를상속받는Employee 클래스를정의하라. Employee 클래스에\n",
    "# employeeID 속성을추가하고getID() 메소드를정의하라. getID() 메소드는employeeID를\n",
    "# 반환하는메소드이다.\n",
    "# Employee 클래스를이용하여Employee(\"동양\", 65, 2019)로생성된 객체의이름, 나이, ID\n",
    "# 를출력하라.\n",
    "\n",
    "class person:\n",
    "    def __init__(self, name, age):\n",
    "        self.name = name\n",
    "        self.age = age\n",
    "    def getName(self):\n",
    "        return self.name\n",
    "    def getAge(self):\n",
    "        return self.age\n",
    "class Employee(person):\n",
    "    def __init__(self, name, age, employeeID):\n",
    "        super().__init__(name, age)\n",
    "        self.employeeID = employeeID\n",
    "    def getId(self):\n",
    "        return self.employeeID\n",
    "emp = Employee(\"동양\", 65, 2019)\n",
    "print(emp.getName())\n",
    "print(emp.getAge())\n",
    "print(emp.getId())"
   ]
  },
  {
   "cell_type": "code",
   "execution_count": null,
   "id": "8c111c8a",
   "metadata": {},
   "outputs": [],
   "source": [
    "## 6-8 연습문제 \n",
    "# 앞의Person 클래스에서새로운Person 객체가생성될때ID를1001번지부터순차적으로자\n",
    "# 동으로부여할수있도록Employee 클래스를포함해서변경하시오. 새로운Employee객체를\n",
    "# 만들어getId() 를호출할때Id가중복되면안된다\n",
    "\n",
    "class person:\n",
    "    def __init__(self, name, age):\n",
    "        self.name = name\n",
    "        self.age = age\n",
    "        person.id += 1\n",
    "        self.employeeID = person.id\n",
    "    def getName(self):\n",
    "        return self.name\n",
    "    def getAge(self):\n",
    "        return self.age\n",
    "class Employee(person):\n",
    "    def __init__(self, name, age, employeeID):\n",
    "        super().__init__(name, age)\n",
    "        self.employeeID = employeeID\n",
    "    def getId(self):\n",
    "        return self.employeeID\n",
    "    \n",
    "person.id = 1000\n",
    "e1 = Employee(\"kim\", 25, person.id)\n",
    "print(e1.getName(), e1.getAge(), e1.getId())\n",
    "e2 = Employee(\"lee\", 30, person.id)\n",
    "print(e2.getName(), e2.getAge(), e2.getId())\n",
    "e3 = Employee(\"park\", 35, person.id)\n",
    "print(e3.getName(), e3.getAge(), e3.getId())\n",
    "e4 = Employee(\"choi\", 40, person.id)\n",
    "print(e4.getName(), e4.getAge(), e4.getId())\n",
    "e5 = Employee(\"jung\", 45, person.id)\n",
    "print(e5.getName(), e5.getAge(), e5.getId())"
   ]
  },
  {
   "cell_type": "markdown",
   "id": "a0e793b9",
   "metadata": {},
   "source": [
    "## 6-9 연습문제 \n",
    "- 파이썬으로 싱글톤 패턴을 구현하는 방법들\n",
    "- 파이썬에서 멀티쓰레드 구현하는 기법\n",
    "- 멀티쓰레드에서 공유 변수에 대한 Critical Section 을 보호하는 기법"
   ]
  },
  {
   "cell_type": "markdown",
   "id": "639e1b7b",
   "metadata": {},
   "source": [
    "## 6-10 연습문제 \n",
    "동물(Animal)을 울음을 추상 메소드로 하는 추상클래스로 정의하고,\n",
    "• 개(Dog)와 고양이(Cat)를 구체적인 클래스로 정의한 후,\n",
    "• 각 동물의 울음소리를 출력하는 프로그램을 작성하시오.\n",
    "• 각 동물객체는 자신의 이름을 속성으로 가지며,\n",
    "• 생성자에서 이름을 초기화합니다.\n",
    "• 추가적으로 Animal 클래스는 현재 생성된 동물 객체의 수를 클래스 변수로 가지고,\n",
    "• 정적 메소드로 현재 동물 객체의 수를 반환하는 메소드를 구현\n",
    "• 객체가 생성(__init__)될 때 객체의 수를 증가하고 삭제(__del__(self) ) 될 때 객체의 수를 감소\n"
   ]
  }
 ],
 "metadata": {
  "kernelspec": {
   "display_name": ".venv",
   "language": "python",
   "name": "python3"
  },
  "language_info": {
   "codemirror_mode": {
    "name": "ipython",
    "version": 3
   },
   "file_extension": ".py",
   "mimetype": "text/x-python",
   "name": "python",
   "nbconvert_exporter": "python",
   "pygments_lexer": "ipython3",
   "version": "3.13.7"
  }
 },
 "nbformat": 4,
 "nbformat_minor": 5
}
