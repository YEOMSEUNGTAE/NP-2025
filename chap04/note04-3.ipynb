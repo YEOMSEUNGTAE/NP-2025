{
 "cells": [
  {
   "cell_type": "markdown",
   "id": "16f315b7",
   "metadata": {},
   "source": [
    "##### 다음딕셔너리에대해물음에답하라.\n",
    "* days = {'January':31, 'February':28, 'March':31, 'April':30,\n",
    "* 'May':31, 'June':30, 'July':31, 'August':31,\n",
    "* 'September':30, 'October':31, 'November':30, 'December':31}\n",
    "* 사용자가월을입력하면해당월에일수를출력하라\n",
    "* 알파벳순서로모든월을출력하라\n",
    "* 일수가31인월을모두출력하라\n",
    "* 월의일수를기준으로오름차순으로(key-value) 쌍을 출력하라\n",
    "* 사용자가월을3자리만입력하면월의일수를출력하라.(Jan, Feb 등)"
   ]
  },
  {
   "cell_type": "code",
   "execution_count": null,
   "id": "366ff6ef",
   "metadata": {},
   "outputs": [],
   "source": [
    "days = {\n",
    "    'January':31, 'February':28, 'March':31, 'April':30,\n",
    "    'May':31, 'June':30, 'July':31, 'August':31,\n",
    "    'September':30, 'October':31, 'November':30, 'December':31\n",
    "}\n",
    "\n",
    "# 1) 사용자가 월을 입력하면 해당 월의 일수 출력\n",
    "month = input(\"월을 입력하세요 (예: March): \")\n",
    "if month in days:\n",
    "    print(f\"{month}는 {days[month]}일입니다.\")\n",
    "else:\n",
    "    print(\"해당 월은 존재하지 않습니다.\")\n",
    "\n",
    "# 2) 알파벳 순서로 모든 월 출력\n",
    "print(\"\\n[알파벳 순서 월 목록]\")\n",
    "for m in sorted(days.keys()):\n",
    "    print(m)\n",
    "\n",
    "# 3) 일수가 31인 월 모두 출력\n",
    "print(\"\\n[일수가 31일인 월]\")\n",
    "for m, d in days.items():\n",
    "    if d == 31:\n",
    "        print(m)\n",
    "\n",
    "# 4) 월의 일수를 기준으로 오름차순 출력\n",
    "print(\"\\n[일수 기준 오름차순 (월-일수)]\")\n",
    "for m, d in sorted(days.items(), key=lambda x: x[1]):\n",
    "    print(m, d)\n",
    "\n",
    "# 5) 월을 3자리만 입력하면 일수 출력 (예: Jan, Feb 등)\n",
    "short = input(\"\\n3자리 월 약어를 입력하세요 (예: Jan): \")\n",
    "for m in days:\n",
    "    if m.startswith(short):\n",
    "        print(f\"{m}는 {days[m]}일입니다.\")\n",
    "        break\n",
    "else:\n",
    "    print(\"해당 약어에 해당하는 월이 없습니다.\")\n"
   ]
  }
 ],
 "metadata": {
  "language_info": {
   "name": "python"
  }
 },
 "nbformat": 4,
 "nbformat_minor": 5
}
