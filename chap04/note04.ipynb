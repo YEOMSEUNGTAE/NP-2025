{
 "cells": [
  {
   "cell_type": "markdown",
   "id": "cc396c89",
   "metadata": {},
   "source": [
    "## 4장 노트정리 ## \n",
    "작성일: 2025.09.09\n",
    "저자: 염승태"
   ]
  },
  {
   "cell_type": "code",
   "execution_count": null,
   "id": "538ee5f0",
   "metadata": {},
   "outputs": [
    {
     "ename": "ValueError",
     "evalue": "empty separator",
     "output_type": "error",
     "traceback": [
      "\u001b[31m---------------------------------------------------------------------------\u001b[39m",
      "\u001b[31mValueError\u001b[39m                                Traceback (most recent call last)",
      "\u001b[36mCell\u001b[39m\u001b[36m \u001b[39m\u001b[32mIn[1]\u001b[39m\u001b[32m, line 4\u001b[39m\n\u001b[32m      1\u001b[39m ailne =\u001b[33m'\u001b[39m\u001b[33m김길동 24 175.3 010-1234-1245\u001b[39m\u001b[33m'\u001b[39m\n\u001b[32m      2\u001b[39m ailne \n\u001b[32m----> \u001b[39m\u001b[32m4\u001b[39m \u001b[43mailne\u001b[49m\u001b[43m.\u001b[49m\u001b[43msplit\u001b[49m\u001b[43m(\u001b[49m\u001b[33;43m'\u001b[39;49m\u001b[33;43m'\u001b[39;49m\u001b[43m)\u001b[49m\n",
      "\u001b[31mValueError\u001b[39m: empty separator"
     ]
    }
   ],
   "source": [
    "ailne ='김길동 24 175.3 010-1234-1245'\n",
    "ailne \n",
    "\n",
    "ailne.split('')\n"
   ]
  },
  {
   "cell_type": "markdown",
   "id": "6b2f9c04",
   "metadata": {},
   "source": [
    "### 자료구조\n",
    "자료를 표현하고 처리하기 위해 사용되는 구조\n",
    "자료를 효율적으로 처리하고 저장하는데 사용\n",
    "파이썬에서 기본이 되는 자료구조\n",
    "\n",
    "- 문자열: str = 'abcde' \n",
    "- 리스트: list = [1,2,3,4]\n",
    "- 튜플: tuple = (1,2,3)\n",
    "- 딕셔너리: dic = {'a':1, 'b':2}\n",
    "- 집합 set = {1,5,3,2} "
   ]
  },
  {
   "cell_type": "markdown",
   "id": "d80e8b1a",
   "metadata": {},
   "source": [
    "#### 문자열 \n",
    "다수의 문자를 표현하기 위한 자료구조 \n",
    "문자열 = \"글씨들\" \"\"로 둘러싼다.\n",
    "\n",
    "문자열 요소를 개별적으로 사용하기 - index \n",
    "문자열 슬라이싱(잘라내기) ex) word[0:2]\n",
    "\n",
    "* 슬라이싱을 이용하여 새로운 문자열 만들기\n",
    "word2 = 'j' + word[1:]\n",
    "문자열 길이 확인 - len()\n",
    "\n",
    "* 문자열 처리 메소드\n",
    "문자열과 메소드 - dic, help\n",
    "파이썬의 객체지향 언어이므로 객체가 많이 사용된다\n",
    "객체는 변수와 함수를 묶은 것이다. 문자열도 객체다\n",
    "객체와 관련된 함수를 메소드라 하며, 객체.함수()로 호출한다.\n",
    "\n",
    "* 문자열 구성 파악하기\n",
    "isdigit() - 문자열이 숫자인가?\n",
    "isalpha() - 문자열이 숫자인가?\n",
    "isalnum() - 문자열이 문자 + 숫자 혼합인가?\n",
    "isupper() - 문자열이 대문자인가?\n",
    "islower() - 문자열이 소문자인가?\n",
    "isspace() - 문자열이 공백인가?\n",
    "\n",
    "* 문자열을 대소문자로 변환하기\n",
    "upper() - 대문자 변환\n",
    "lower() - 소문자 변환\n",
    "swapcase() - 대소문자 바꾸기\n",
    "title() - 첫 글자만 대문자로 변환\n",
    "\n"
   ]
  },
  {
   "cell_type": "markdown",
   "id": "0673cc57",
   "metadata": {},
   "source": [
    "#### 리스트\n",
    "리스트는 여러개의 데이터를 하나의 이름으로 저장하는 구조 \n",
    "리스트 이름 = [항목1, 항목2, ...]\n",
    "\n",
    "* 중첩리스트\n",
    "[['a','b','c'], [1,2,3]]\n",
    "\n",
    "* 2차원 리스트\n",
    "[4,5,6,],\n",
    "[7,8,9]\n",
    "\n",
    "* 리스트 요소 순서 배열 - sort()\n",
    "* 리스트 거꾸로 순서 배열 - reverse()\n",
    "\n",
    "* 리스트 내포?\n",
    "리스트 안에 for문을 포함하여 한줄로 리스트를 만드는 방법\n",
    "-표현식 for 항목 in 반복객체\n",
    "-표현식 for 항목 in 반복객체 if 조건문\n",
    "-표현식 if 조건문 else 문장 for 항목 in 반복객체\n"
   ]
  },
  {
   "cell_type": "markdown",
   "id": "7188912a",
   "metadata": {},
   "source": [
    "* 튜플\n",
    "튜플은 리스트와 비슷한 자료구조이나 요소 값을 변경할 수 있다\n",
    "\n",
    "* 튜플과 리스트 상호 변환 \n",
    "t1=(1,2,3)\n",
    "l2 = list(t1)\n",
    "l2 = append(4)\n",
    "t1 = tuple(l2)\n",
    "t1\n",
    "\n",
    "* 튜플 언패킹\n",
    "a,b,c = (1,2,3)\n"
   ]
  },
  {
   "cell_type": "markdown",
   "id": "f4555708",
   "metadata": {},
   "source": [
    "#### 딕셔너리\n",
    "키:값으로 구성되는 자료구조\n",
    "키는 정수, 실수, 문자열, 튜플\n",
    "값은 임의의 데이터형\n",
    "\n",
    "height = {'jun':174, 'kim':170, 'lee':165}\n",
    "test = dic()\n",
    "\n",
    "in 연산자로 key가 있는지 조사\n",
    "\n",
    "딕셔너리의 키, 값 요소를 뽑아내기\n",
    "* 키: keys()\n",
    "* 값: values()\n",
    "* 튜플로 분리: items()\n",
    "* 리스트로 변환: list(dic_keys)\n",
    "* 요소제거: pop()\n",
    "\n"
   ]
  },
  {
   "cell_type": "markdown",
   "id": "7810a528",
   "metadata": {},
   "source": [
    "##### 집합\n",
    "\n",
    "{} 속에 요소들을 중복되지 않고 순서없이 모아놓은 자료구조\n",
    "* 변수선언\n",
    "변수 = set()\n",
    "* 요소추가\n",
    "변수.add()\n",
    "* 요소제거\n",
    "변수.remove()\n",
    "\n",
    "* 집합의 연산\n",
    "setA & setB - 교집합 \n",
    "setA | setB - 합집합\n",
    "setA - setB - 차집합\n",
    "setA == setB - 부분집합\n"
   ]
  },
  {
   "cell_type": "markdown",
   "id": "e3a19082",
   "metadata": {},
   "source": []
  }
 ],
 "metadata": {
  "kernelspec": {
   "display_name": "Python 3",
   "language": "python",
   "name": "python3"
  },
  "language_info": {
   "codemirror_mode": {
    "name": "ipython",
    "version": 3
   },
   "file_extension": ".py",
   "mimetype": "text/x-python",
   "name": "python",
   "nbconvert_exporter": "python",
   "pygments_lexer": "ipython3",
   "version": "3.13.5"
  }
 },
 "nbformat": 4,
 "nbformat_minor": 5
}
