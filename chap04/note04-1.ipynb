{
 "cells": [
  {
   "cell_type": "markdown",
   "id": "b75bd520",
   "metadata": {},
   "source": [
    "* 3명이상친구이름리스트를작성하고다음내용을프로그램하시오 \n",
    "• insert()로 맨 앞에 새로운 친구 추가 \n",
    "• insert()로 3번째 위치에 새로운 친구 추가 \n",
    "• append()로 마지막에 친구 추가 \n",
    "\n",
    "* 리스트[1, 2, 3]에 대해 다음과같은처리를하라. \n",
    "• 두 번째요소를17로수정\n",
    "• 리스트에4, 5, 6을 추가\n",
    "• 첫 번째요소제거\n",
    "• 리스트를요소순서대로배열하기 \n",
    "• 인덱스3에25넣기"
   ]
  },
  {
   "cell_type": "code",
   "execution_count": 1,
   "id": "660bcc59",
   "metadata": {},
   "outputs": [
    {
     "name": "stdout",
     "output_type": "stream",
     "text": [
      "최종 친구 리스트: ['지영', '철수', '현수', '영희', '민수', '동혁']\n"
     ]
    }
   ],
   "source": [
    "friends = [\"철수\", \"영희\", \"민수\"]\n",
    "\n",
    "friends.insert(0, \"지영\")\n",
    "friends.insert(2, \"현수\")\n",
    "friends.append(\"동혁\")\n",
    "\n",
    "print(\"최종 친구 리스트:\", friends)\n"
   ]
  },
  {
   "cell_type": "code",
   "execution_count": 2,
   "id": "632d1ba0",
   "metadata": {},
   "outputs": [
    {
     "name": "stdout",
     "output_type": "stream",
     "text": [
      "최종 리스트: [3, 4, 5, 25, 6, 17]\n"
     ]
    }
   ],
   "source": [
    "# 초기 리스트\n",
    "nums = [1, 2, 3]\n",
    "\n",
    "nums[1] = 17\n",
    "\n",
    "nums.extend([4, 5, 6])\n",
    "\n",
    "del nums[0]\n",
    "\n",
    "nums.sort()\n",
    "nums.insert(3, 25)\n",
    "\n",
    "print(\"최종 리스트:\", nums)"
   ]
  }
 ],
 "metadata": {
  "kernelspec": {
   "display_name": "Python 3",
   "language": "python",
   "name": "python3"
  },
  "language_info": {
   "codemirror_mode": {
    "name": "ipython",
    "version": 3
   },
   "file_extension": ".py",
   "mimetype": "text/x-python",
   "name": "python",
   "nbconvert_exporter": "python",
   "pygments_lexer": "ipython3",
   "version": "3.13.5"
  }
 },
 "nbformat": 4,
 "nbformat_minor": 5
}
