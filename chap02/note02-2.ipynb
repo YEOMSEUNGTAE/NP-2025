{
 "cells": [
  {
   "cell_type": "markdown",
   "id": "2b961e23",
   "metadata": {},
   "source": [
    "## 2장 산술 및 관계 연산자 연습문제\n",
    "* 작성자: 202110846 염승태"
   ]
  },
  {
   "cell_type": "markdown",
   "id": "043c8c9a",
   "metadata": {},
   "source": [
    "1. 5와 3을 더한 값을 출력하는 프로그램을 작성하라"
   ]
  },
  {
   "cell_type": "code",
   "execution_count": 1,
   "id": "da1cf371",
   "metadata": {},
   "outputs": [
    {
     "name": "stdout",
     "output_type": "stream",
     "text": [
      "8\n"
     ]
    }
   ],
   "source": [
    "a=5\n",
    "b=3\n",
    "print(a+b)"
   ]
  },
  {
   "cell_type": "markdown",
   "id": "4fb04d1e",
   "metadata": {},
   "source": [
    "2. 7에서 3을 뺀 값을 출력하는 프로그램을 작성하라"
   ]
  },
  {
   "cell_type": "code",
   "execution_count": null,
   "id": "51f6625e",
   "metadata": {},
   "outputs": [],
   "source": [
    "a=7\n",
    "b=3\n",
    "print(a-b)"
   ]
  },
  {
   "cell_type": "markdown",
   "id": "9aa1d03d",
   "metadata": {},
   "source": [
    "3. 4를 2로 나눈 값을 출력하는 프로그램을 작성하라"
   ]
  },
  {
   "cell_type": "code",
   "execution_count": 3,
   "id": "d48260a4",
   "metadata": {},
   "outputs": [
    {
     "name": "stdout",
     "output_type": "stream",
     "text": [
      "2\n"
     ]
    }
   ],
   "source": [
    "print(int(4/2))"
   ]
  },
  {
   "cell_type": "markdown",
   "id": "851a1c61",
   "metadata": {},
   "source": [
    "4. 8을 3으로 나눈 몫과 나머지를 출력하는 프로그램을 작성하라"
   ]
  },
  {
   "cell_type": "code",
   "execution_count": 4,
   "id": "0b6eceee",
   "metadata": {},
   "outputs": [
    {
     "name": "stdout",
     "output_type": "stream",
     "text": [
      "0\n",
      "4\n"
     ]
    }
   ],
   "source": [
    "print(int(8%2))\n",
    "print(int(8//2))"
   ]
  },
  {
   "cell_type": "markdown",
   "id": "d90e1841",
   "metadata": {},
   "source": [
    "5. 2의 5제곱을 출력하는 프로그램을 작성하라"
   ]
  },
  {
   "cell_type": "code",
   "execution_count": 5,
   "id": "f8bc5c02",
   "metadata": {},
   "outputs": [
    {
     "name": "stdout",
     "output_type": "stream",
     "text": [
      "32\n"
     ]
    }
   ],
   "source": [
    "print(2**5)"
   ]
  },
  {
   "cell_type": "markdown",
   "id": "4da5d8c7",
   "metadata": {},
   "source": [
    "6. 입력된 정수가 10보다 크고 20보다 작은지 검사하는 프로그램을 작성하라"
   ]
  },
  {
   "cell_type": "code",
   "execution_count": null,
   "id": "5398c24b",
   "metadata": {},
   "outputs": [],
   "source": [
    "a = int(input(\"숫자를 입력하세요\"))\n",
    "\n",
    "if a < 10 : \n",
    "    print(\"10보다 작아요\")\n",
    "elif a >10 and a<20:\n",
    "    print(\"10보다 크고 20보다 작아요\")\n",
    "else: print(\"20보다 커요\")"
   ]
  },
  {
   "cell_type": "markdown",
   "id": "f9a36710",
   "metadata": {},
   "source": [
    "7. 문자열 \"hello\"와 \"world\"를 이어 붙인 결과를 출력하는 프로그램을 작성하라"
   ]
  },
  {
   "cell_type": "code",
   "execution_count": 6,
   "id": "0cfac855",
   "metadata": {},
   "outputs": [
    {
     "name": "stdout",
     "output_type": "stream",
     "text": [
      "helloworld\n"
     ]
    }
   ],
   "source": [
    "str1 = \"hello\"\n",
    "str2 = \"world\"\n",
    "\n",
    "print(str1+str2)"
   ]
  },
  {
   "cell_type": "markdown",
   "id": "f90e9c1d",
   "metadata": {},
   "source": [
    "8. 7을 2로 나눈 결과가 3보다 작은지 검사하는 프로그램을 작성히라"
   ]
  },
  {
   "cell_type": "code",
   "execution_count": 9,
   "id": "e8a9cbe3",
   "metadata": {},
   "outputs": [
    {
     "name": "stdout",
     "output_type": "stream",
     "text": [
      "3보다 작다\n"
     ]
    }
   ],
   "source": [
    "a = 7/2 \n",
    "\n",
    "if a < 3 :\n",
    "    print(\"3보다 크다\")\n",
    "else: print(\"3보다 작다\")"
   ]
  },
  {
   "cell_type": "markdown",
   "id": "162777be",
   "metadata": {},
   "source": [
    "9. 변수 x의 값이 5와 같지 않은지 검사하는 프로그램을 작성하시오"
   ]
  },
  {
   "cell_type": "code",
   "execution_count": 11,
   "id": "9fef0ef6",
   "metadata": {},
   "outputs": [
    {
     "name": "stdout",
     "output_type": "stream",
     "text": [
      "같지 않습니다.\n"
     ]
    }
   ],
   "source": [
    "x = int(input(\"숫자를 입력하새ㅔ요\"))\n",
    "\n",
    "if x==5:\n",
    "    print(\"x는 5와 같습니다\")\n",
    "else: print(\"같지 않습니다.\")"
   ]
  },
  {
   "cell_type": "markdown",
   "id": "e1cecb90",
   "metadata": {},
   "source": [
    "10. 변수 y의 값이 10에서 20사이의 값인지 검사하는 프로그램을 작성하시오"
   ]
  },
  {
   "cell_type": "code",
   "execution_count": null,
   "id": "2f57db86",
   "metadata": {},
   "outputs": [],
   "source": [
    "a = int(input(\"숫자를 입력하세요\"))\n",
    "\n",
    "if a >= 10 and a <= 20: \n",
    "    print(\"10~20사이의 숫자에요\")\n",
    "else: print(\"숫자가 10보다 작거나 20보다 커요\")"
   ]
  }
 ],
 "metadata": {
  "kernelspec": {
   "display_name": "Python 3",
   "language": "python",
   "name": "python3"
  },
  "language_info": {
   "codemirror_mode": {
    "name": "ipython",
    "version": 3
   },
   "file_extension": ".py",
   "mimetype": "text/x-python",
   "name": "python",
   "nbconvert_exporter": "python",
   "pygments_lexer": "ipython3",
   "version": "3.13.5"
  }
 },
 "nbformat": 4,
 "nbformat_minor": 5
}
