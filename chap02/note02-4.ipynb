{
 "cells": [
  {
   "cell_type": "markdown",
   "id": "30026c20",
   "metadata": {},
   "source": [
    "## 2장 멤버 연산자 연습문제 ##\n",
    "* 작성자: 202110847 염승태"
   ]
  },
  {
   "cell_type": "markdown",
   "id": "9340e7e6",
   "metadata": {},
   "source": [
    "1. 숫자7이리스트[1, 2, 3, 4, 5]에 포함되어 있는지 검사하는프로그램을작성하라. "
   ]
  },
  {
   "cell_type": "code",
   "execution_count": 6,
   "id": "f0b245fb",
   "metadata": {},
   "outputs": [
    {
     "name": "stdout",
     "output_type": "stream",
     "text": [
      "숫자포함안됨\n"
     ]
    }
   ],
   "source": [
    "a = [1,2,3,4,5]\n",
    "b = 7\n",
    "\n",
    "\n",
    "if b in a :\n",
    "    print(\"숫자가 포함되어 있는지?\")\n",
    "else: print(\"숫자포함안됨\")"
   ]
  },
  {
   "cell_type": "markdown",
   "id": "c194128d",
   "metadata": {},
   "source": [
    "2. 문자열\"apple\"이 세트{\"orange\", \"banana\", \"kiwi\"}에 포함되어 있는지 검사하는 프로\n",
    "그램을작성하라."
   ]
  },
  {
   "cell_type": "code",
   "execution_count": 8,
   "id": "8e3eaf63",
   "metadata": {},
   "outputs": [
    {
     "name": "stdout",
     "output_type": "stream",
     "text": [
      "포함되지 않았습니다\n"
     ]
    }
   ],
   "source": [
    "str1 = \"apple\"\n",
    "\n",
    "sett = {\"orange\", \"banana\", \"kiwi\"}\n",
    "\n",
    "if str1 in sett:\n",
    "    print(\"포함되었습니다\")\n",
    "else: print(\"포함되지 않았습니다\")"
   ]
  },
  {
   "cell_type": "markdown",
   "id": "5bdbbc38",
   "metadata": {},
   "source": [
    "3. 숫자 6이 딕셔너리{\"a\": 1, \"b\": 2, \"c\": 3, \"d\": 4}의 값들 중 하나인지 검사하는 프로그램을\n",
    "작성하라."
   ]
  },
  {
   "cell_type": "code",
   "execution_count": 9,
   "id": "9fab9db1",
   "metadata": {},
   "outputs": [
    {
     "name": "stdout",
     "output_type": "stream",
     "text": [
      "값들중 없습니다\n"
     ]
    }
   ],
   "source": [
    "di = {\"a\":1, \"b\": 2, \"c\": 3, \"d\": 4}\n",
    "\n",
    "d=6\n",
    "\n",
    "if d is di :\n",
    "    print(\"값들중 있습니다\")\n",
    "else: print(\"값들중 없습니다\")"
   ]
  },
  {
   "cell_type": "markdown",
   "id": "1765990d",
   "metadata": {},
   "source": [
    "4. 문자열\"cat\"이 튜플(\"dog\", \"cat\", \"bird\", \"hamster\")에 포함되어 있는지 검사하는 프로그램을작성하라"
   ]
  },
  {
   "cell_type": "code",
   "execution_count": 12,
   "id": "d1d40795",
   "metadata": {},
   "outputs": [
    {
     "name": "stdout",
     "output_type": "stream",
     "text": [
      "포함되었어요\n"
     ]
    }
   ],
   "source": [
    "tti = (\"dog\", \"cat\",\"bird\",\"hamster\")\n",
    "\n",
    "mm = \"cat\"\n",
    "\n",
    "if mm in tti :\n",
    "    print(\"포함되었어요\")\n",
    "else: print(\"포함되지 않았어요\")"
   ]
  },
  {
   "cell_type": "markdown",
   "id": "76fac7eb",
   "metadata": {},
   "source": [
    "5. 숫자10이세트{2, 4, 6, 8, 10}에 포함되어 있는지 검사하는 프로그램을작성하라."
   ]
  },
  {
   "cell_type": "code",
   "execution_count": 14,
   "id": "439eefb7",
   "metadata": {},
   "outputs": [
    {
     "name": "stdout",
     "output_type": "stream",
     "text": [
      "포함되었어요\n"
     ]
    }
   ],
   "source": [
    "a=10\n",
    "stt = {2,4,6,8,10}\n",
    "\n",
    "if a in stt:\n",
    "    print(\"포함되었어요\")\n",
    "else: print(\"포함되지 않았어요\")"
   ]
  }
 ],
 "metadata": {
  "kernelspec": {
   "display_name": "Python 3",
   "language": "python",
   "name": "python3"
  },
  "language_info": {
   "codemirror_mode": {
    "name": "ipython",
    "version": 3
   },
   "file_extension": ".py",
   "mimetype": "text/x-python",
   "name": "python",
   "nbconvert_exporter": "python",
   "pygments_lexer": "ipython3",
   "version": "3.13.5"
  }
 },
 "nbformat": 4,
 "nbformat_minor": 5
}
