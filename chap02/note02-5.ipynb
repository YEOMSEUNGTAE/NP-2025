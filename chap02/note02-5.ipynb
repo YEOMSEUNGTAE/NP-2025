{
 "cells": [
  {
   "cell_type": "markdown",
   "id": "83dbd127",
   "metadata": {},
   "source": [
    "## 2장 연습문제 2 ##\n",
    "* 작성자: 202110846 염승태"
   ]
  },
  {
   "cell_type": "markdown",
   "id": "627360f5",
   "metadata": {},
   "source": [
    "1. 초를 입력하면분과초로표시하는프로그램. 예를들어,200초를입력하면3분20초로표현하\n",
    "라"
   ]
  },
  {
   "cell_type": "code",
   "execution_count": 3,
   "id": "f463fc44",
   "metadata": {},
   "outputs": [
    {
     "name": "stdout",
     "output_type": "stream",
     "text": [
      "3분20초\n"
     ]
    }
   ],
   "source": [
    "a = int(input(\"초를 입력하세요\"))\n",
    "\n",
    "min = a //60 \n",
    "rem = a % 60\n",
    "\n",
    "print(str(min) +\"분\"+ str(rem)+\"초\")"
   ]
  },
  {
   "cell_type": "markdown",
   "id": "56aad674",
   "metadata": {},
   "source": [
    "2. 분(min)을 입력 하면, 일, 시간, 분으로출력하는프로그램을만들어라. (예: 1550분은1일1\n",
    "시간50분)"
   ]
  },
  {
   "cell_type": "code",
   "execution_count": null,
   "id": "fe0063e3",
   "metadata": {},
   "outputs": [],
   "source": [
    "m = int(input(\"분을 입력하세요: \"))\n",
    "\n",
    "days = m // (24 * 60)\n",
    "rem = m % (24 * 60)\n",
    "hours = rem // 60\n",
    "mins = rem % 60\n",
    "\n",
    "print(str(days)+\"일\" + str(hours) +\"시간\"+ str(mins)+ \"분\")\n"
   ]
  },
  {
   "cell_type": "markdown",
   "id": "4eee05cc",
   "metadata": {},
   "source": [
    "3. 500만원을년이율5%로복리저금했을때5년후의원리금의합계를출력하는프로그램"
   ]
  },
  {
   "cell_type": "code",
   "execution_count": 4,
   "id": "1961215a",
   "metadata": {},
   "outputs": [
    {
     "name": "stdout",
     "output_type": "stream",
     "text": [
      "5년 후 원리금 합계: 6381408:원\n"
     ]
    }
   ],
   "source": [
    "P = 5_000_000      # 원금(원)\n",
    "r = 0.05           # 연이율 5%\n",
    "t = 5              # 기간 5년 (연 복리)\n",
    "\n",
    "A = round(P * (1 + r) ** t)   # 1원 단위 반올림\n",
    "print(str(t)+\"년 후 원리금 합계: \"+ str(A)+\":원\")\n"
   ]
  },
  {
   "cell_type": "markdown",
   "id": "ad3ca765",
   "metadata": {},
   "source": [
    "4. 1부터n까지의합은n(n+1)/2로 주어진다. 1부터100까지의합을구하여출력하는프로그램을\n",
    "작성하고실행하라."
   ]
  },
  {
   "cell_type": "code",
   "execution_count": null,
   "id": "e7d2e17b",
   "metadata": {},
   "outputs": [],
   "source": [
    "n = 100\n",
    "s = n * (n + 1) // 2\n",
    "print(s)"
   ]
  },
  {
   "cell_type": "markdown",
   "id": "fbb8a43a",
   "metadata": {},
   "source": [
    "5. 판매자가딸기와포도를판매하고있다. 포도한알의무게는75g이고딸기한알의무게는\n",
    "113.5g이다. 사용자로부터 포도알의개수와딸기의개수를입력받아총무게를계산하여출력\n",
    "하는프로그램을작성하고실행하라."
   ]
  },
  {
   "cell_type": "code",
   "execution_count": null,
   "id": "848d8025",
   "metadata": {},
   "outputs": [],
   "source": [
    "grap = int(input(\"포도 알 개수: \"))\n",
    "strawb = int(input(\"딸기 개수: \"))\n",
    "\n",
    "total_g = grap * 75 + strawb * 113.5\n",
    "print(f\"총 무게: {total_g:.1f} g ({total_g/1000:.3f} kg)\")"
   ]
  }
 ],
 "metadata": {
  "kernelspec": {
   "display_name": "Python 3",
   "language": "python",
   "name": "python3"
  },
  "language_info": {
   "codemirror_mode": {
    "name": "ipython",
    "version": 3
   },
   "file_extension": ".py",
   "mimetype": "text/x-python",
   "name": "python",
   "nbconvert_exporter": "python",
   "pygments_lexer": "ipython3",
   "version": "3.13.5"
  }
 },
 "nbformat": 4,
 "nbformat_minor": 5
}
