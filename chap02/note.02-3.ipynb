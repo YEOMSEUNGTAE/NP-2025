{
 "cells": [
  {
   "cell_type": "markdown",
   "id": "1545ca58",
   "metadata": {},
   "source": [
    "## 2장 논리 연산자 연습문제 ##\n",
    "* 작성자: 202110846 염승태"
   ]
  },
  {
   "cell_type": "markdown",
   "id": "567023bd",
   "metadata": {},
   "source": [
    "1. 5가 3보다 크고 7보다 작은지 검사하는 프로그램을 작성하라."
   ]
  },
  {
   "cell_type": "code",
   "execution_count": 2,
   "id": "ecb9e70d",
   "metadata": {},
   "outputs": [
    {
     "name": "stdout",
     "output_type": "stream",
     "text": [
      "합격이에요\n"
     ]
    }
   ],
   "source": [
    "a=5\n",
    "\n",
    "if a>3 and 7>a:\n",
    "    print(\"합격이에요\")\n",
    "else: print(\"불합격에요\")\n"
   ]
  },
  {
   "cell_type": "markdown",
   "id": "c8501c06",
   "metadata": {},
   "source": [
    "2. 변수 x가 10이상이고 20이하인지 검사하는 프로그램을 작성하라"
   ]
  },
  {
   "cell_type": "code",
   "execution_count": null,
   "id": "9b969446",
   "metadata": {},
   "outputs": [],
   "source": [
    "a = int(input(\"숫자를 입력하시오\"))\n",
    "\n",
    "if a>10 and a<20:\n",
    "    print(\"합격이에요\")\n",
    "else: print(\"불합격\")"
   ]
  },
  {
   "cell_type": "markdown",
   "id": "7451028b",
   "metadata": {},
   "source": [
    "3. 변수 y가 5의 배수이거나 7의 배수인지 검사하는 프로그램을 작성하시오"
   ]
  },
  {
   "cell_type": "code",
   "execution_count": null,
   "id": "e4b37599",
   "metadata": {},
   "outputs": [],
   "source": [
    "y = int(input(\"숫자를 입력하시오\"))\n",
    "\n",
    "if y%5==0 and y%7==0:\n",
    "    print(\"5의 배수이면서 7의 배수입니다\")\n",
    "else: print(\"탈락입니다!\")"
   ]
  },
  {
   "cell_type": "markdown",
   "id": "91fb7db6",
   "metadata": {},
   "source": [
    "4. 변수 z가 양수이면서 짝수인지 검사하는 프로그램을 작서하라"
   ]
  },
  {
   "cell_type": "code",
   "execution_count": null,
   "id": "3c94624d",
   "metadata": {},
   "outputs": [],
   "source": [
    "z = int(input(\"숫자를 입력하시오\"))\n",
    "\n",
    "if z>0 and z%2== 0:\n",
    "    print(\"양수이면서 짝수입니다\")\n",
    "else: print(\"오류입니다.\")"
   ]
  },
  {
   "cell_type": "markdown",
   "id": "ed45c60d",
   "metadata": {},
   "source": [
    "5. 변수 a가 문자열 \"hello\"나 문자열 \"world\"중 하나인지 검사하는 프로그램을 만드시오"
   ]
  },
  {
   "cell_type": "code",
   "execution_count": 3,
   "id": "931d0a48",
   "metadata": {},
   "outputs": [
    {
     "name": "stdout",
     "output_type": "stream",
     "text": [
      "참입니다\n"
     ]
    }
   ],
   "source": [
    "a = str(input(\"문자를 입력하세요\"))\n",
    "str1 = \"hello\"\n",
    "str2 = \"world\"\n",
    "\n",
    "if a == str1 or a==str2:\n",
    "    print(\"참입니다\")\n",
    "else: print(\"탈락이빈다\")"
   ]
  }
 ],
 "metadata": {
  "kernelspec": {
   "display_name": "Python 3",
   "language": "python",
   "name": "python3"
  },
  "language_info": {
   "codemirror_mode": {
    "name": "ipython",
    "version": 3
   },
   "file_extension": ".py",
   "mimetype": "text/x-python",
   "name": "python",
   "nbconvert_exporter": "python",
   "pygments_lexer": "ipython3",
   "version": "3.13.5"
  }
 },
 "nbformat": 4,
 "nbformat_minor": 5
}
