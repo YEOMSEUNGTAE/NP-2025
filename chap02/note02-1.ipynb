{
 "cells": [
  {
   "cell_type": "markdown",
   "id": "9a401e71",
   "metadata": {},
   "source": [
    "## 2장 연습문제 1 "
   ]
  },
  {
   "cell_type": "markdown",
   "id": "3843eb99",
   "metadata": {},
   "source": [
    "키보드에서 임의의 두 실수를 입력 받아 곱한 후 그 결과를 출력하는 프로그램을 개발하세요"
   ]
  },
  {
   "cell_type": "code",
   "execution_count": 1,
   "id": "a6bd2b82",
   "metadata": {},
   "outputs": [
    {
     "name": "stdout",
     "output_type": "stream",
     "text": [
      "2\n"
     ]
    }
   ],
   "source": [
    "a = int(input(\"1번째 숫자를 입력하세요.\"))\n",
    "b = int(input(\"2번째 숫자를 입력하세요.\"))\n",
    "\n",
    "c=a*b\n",
    "print(c)"
   ]
  },
  {
   "cell_type": "markdown",
   "id": "000adc0b",
   "metadata": {},
   "source": [
    "1마일은 1.609km이다. 키보드에서 마일을 입력 받아 km로 변환해 출력하는 프로그램을 작서앟고 실행하라"
   ]
  },
  {
   "cell_type": "code",
   "execution_count": 4,
   "id": "bce6087e",
   "metadata": {},
   "outputs": [
    {
     "name": "stdout",
     "output_type": "stream",
     "text": [
      "4마일은6.436km입니다\n"
     ]
    }
   ],
   "source": [
    "mile1 = 1.609\n",
    "\n",
    "a = int(input(\"마일을 입력하세요.\"))\n",
    "b = a*mile1\n",
    "\n",
    "print(str(a)+\"마일은\"+str(b)+\"km입니다\")\n"
   ]
  },
  {
   "cell_type": "markdown",
   "id": "23a555fd",
   "metadata": {},
   "source": [
    "원의 반지름을 입력 받아 원의 둘레와 원의 면적을 출력하는 프로그램을 작성하라."
   ]
  },
  {
   "cell_type": "code",
   "execution_count": null,
   "id": "5327aec7",
   "metadata": {},
   "outputs": [
    {
     "name": "stdout",
     "output_type": "stream",
     "text": [
      "원의 둘레는31.400000000000002\n",
      "원의 면적은15.700000000000001\n"
     ]
    }
   ],
   "source": [
    "ba = 3.14\n",
    "\n",
    "a = int(input(\"원의 반지름을 입력하세요.\"))\n",
    "\n",
    "c = 2*a*ba \n",
    "d = ba*a\n",
    "print(\"원의 둘레는\" + str(int(c)))\n",
    "print(\"원의 면적은\" + str(int(d)))\n",
    "\n"
   ]
  },
  {
   "cell_type": "code",
   "execution_count": null,
   "id": "1794fdec",
   "metadata": {},
   "outputs": [],
   "source": []
  }
 ],
 "metadata": {
  "kernelspec": {
   "display_name": "Python 3",
   "language": "python",
   "name": "python3"
  },
  "language_info": {
   "codemirror_mode": {
    "name": "ipython",
    "version": 3
   },
   "file_extension": ".py",
   "mimetype": "text/x-python",
   "name": "python",
   "nbconvert_exporter": "python",
   "pygments_lexer": "ipython3",
   "version": "3.13.5"
  }
 },
 "nbformat": 4,
 "nbformat_minor": 5
}
