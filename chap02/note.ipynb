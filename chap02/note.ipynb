{
 "cells": [
  {
   "cell_type": "markdown",
   "id": "b5c42738",
   "metadata": {},
   "source": [
    "## 2장 노트정리 ##\n",
    "이 장은 2장 실습 후 내용을 정리하기 위함\n",
    "날짜 : 2025.09.09\n",
    "저자: 202110846 염승태"
   ]
  },
  {
   "cell_type": "code",
   "execution_count": 1,
   "id": "7c0ab91e",
   "metadata": {},
   "outputs": [
    {
     "name": "stdout",
     "output_type": "stream",
     "text": [
      "hello. 여러분!\n"
     ]
    }
   ],
   "source": [
    "print('hello. 여러분!')"
   ]
  },
  {
   "cell_type": "code",
   "execution_count": null,
   "id": "2988e80e",
   "metadata": {},
   "outputs": [
    {
     "name": "stdout",
     "output_type": "stream",
     "text": [
      "{x}\n"
     ]
    }
   ],
   "source": [
    "x=3\n",
    "print(x)"
   ]
  },
  {
   "cell_type": "markdown",
   "id": "41e68d25",
   "metadata": {},
   "source": [
    "print() 함수\n",
    "\n",
    "print (10+20)\n",
    "30\n",
    "print(\"동양미래대학교\")\n",
    "동양미래대학교\n",
    "x=25\n",
    "y=32\n",
    "z=x+y\n",
    "print(x,y)"
   ]
  },
  {
   "cell_type": "markdown",
   "id": "13cb0610",
   "metadata": {},
   "source": [
    "input함수\n",
    "키보드를 이용하여 숫자나 문자열 등의 데이터를 입력 받을때 사용\n",
    "입력된 정보는 문자영\n",
    "\n",
    "n = input('type a number':)\n",
    "\n",
    "name = input('name: ')\n",
    "print(\"hello\" + name)\n",
    "\n",
    "c = float(input(\"type 섭시 온도 :\"))\n",
    "f = c*9/5 + 32 \n",
    "print(\"화씨온도\",f)"
   ]
  },
  {
   "cell_type": "markdown",
   "id": "739d8dba",
   "metadata": {},
   "source": [
    "# 자료형\n",
    "# 부울형(boolean)\n",
    "참 또는 거짓 중 하나의 값을 갖는 자료형\n",
    "비교를 저장할때 사용\n",
    "# 정수형(integer)\n",
    "소수점이 없는 숫자표현\n",
    "# 실수형(float)\n",
    "여러가지 실수 표현\n",
    "# 문자열(string)\n",
    "나열된 문자들\n",
    "'' 또는 \"\"로 둘러쌈"
   ]
  },
  {
   "cell_type": "markdown",
   "id": "d0f998ee",
   "metadata": {},
   "source": [
    "# 연산자의 종류 \n",
    "* 지정연산자(할당연산자)\n",
    "\n",
    "* 산술연산자\n",
    "사칙연산자: +,-,*,/\n",
    "정수나눗셈: //\n",
    "나머지연산: % \n",
    "\n",
    "* 관계연산자\n",
    "비교연산자\n",
    "항의 대소관계 또는 동등관계 판정\n",
    "연산결과는 참 또는 거짓\n",
    "\n",
    "* 논리연산자\n",
    "논리곱, 논리합, 논리부정\n",
    "논리 연산의 대상은 true 또는 false. 결과도 true 또는 false\n",
    "\n",
    "* 멤버연산자\n",
    "in\n",
    "특정 문자열 또는 값이 문자열 또는 리스트에 속해 있는지 판별하는 연산자\n",
    "\n",
    "* 식별 연산자\n",
    "is: 양족 변수의 주소가 같은지 판단. if id(a) == id(b)\n",
    "is not: 양쪽 변수의 주소가 다른지 판단. if id(a) != id(b)"
   ]
  },
  {
   "cell_type": "markdown",
   "id": "bbe7fee9",
   "metadata": {},
   "source": [
    "# 타입에러\n",
    "* 연산할 수 없는 자료형을 연산하면 타입 에러 발생"
   ]
  },
  {
   "cell_type": "markdown",
   "id": "5a93fde4",
   "metadata": {},
   "source": []
  }
 ],
 "metadata": {
  "kernelspec": {
   "display_name": "Python 3",
   "language": "python",
   "name": "python3"
  },
  "language_info": {
   "codemirror_mode": {
    "name": "ipython",
    "version": 3
   },
   "file_extension": ".py",
   "mimetype": "text/x-python",
   "name": "python",
   "nbconvert_exporter": "python",
   "pygments_lexer": "ipython3",
   "version": "3.13.5"
  }
 },
 "nbformat": 4,
 "nbformat_minor": 5
}
